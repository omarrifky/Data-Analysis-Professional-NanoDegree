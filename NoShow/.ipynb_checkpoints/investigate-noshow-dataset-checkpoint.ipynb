{
 "cells": [
  {
   "cell_type": "markdown",
   "metadata": {},
   "source": [
    "\n",
    "\n",
    "# Project: Investigate NoShow appointments dataset\n",
    "\n",
    "## Table of Contents\n",
    "<ul>\n",
    "<li><a href=\"#intro\">Introduction</a></li>\n",
    "<li><a href=\"#wrangling\">Data Wrangling</a></li>\n",
    "<li><a href=\"#eda\">Exploratory Data Analysis</a></li>\n",
    "<li><a href=\"#conclusions\">Conclusions</a></li>\n",
    "</ul>"
   ]
  },
  {
   "cell_type": "markdown",
   "metadata": {},
   "source": [
    "<a id='intro'></a>\n",
    "## Introduction\n",
    "\n",
    "I've selected the NoShow dataset provided by kaggle. In this dataset I'm required to find more information about the no-showup patients and if there is a certain relation between any of the features inour dataset."
   ]
  },
  {
   "cell_type": "code",
   "execution_count": 3,
   "metadata": {},
   "outputs": [],
   "source": [
    "# Use this cell to set up import statements for all of the packages that you\n",
    "#   plan to use.\n",
    "import numpy as np\n",
    "import pandas as pd\n",
    "import matplotlib.pyplot as plt\n",
    "# import seaborn as sns\n",
    "# % matplotlib inline\n",
    "import warnings\n",
    "warnings.filterwarnings(\"ignore\")\n",
    "# Remember to include a 'magic word' so that your visualizations are plotted\n",
    "#   inline with the notebook. See this page for more:\n",
    "#   http://ipython.readthedocs.io/en/stable/interactive/magics.html\n"
   ]
  },
  {
   "cell_type": "markdown",
   "metadata": {},
   "source": [
    "<a id='wrangling'></a>\n",
    "## Data Wrangling\n",
    "\n",
    "\n",
    "### General Properties"
   ]
  },
  {
   "cell_type": "code",
   "execution_count": 14,
   "metadata": {},
   "outputs": [
    {
     "name": "stdout",
     "output_type": "stream",
     "text": [
      "<class 'pandas.core.frame.DataFrame'>\n",
      "RangeIndex: 110527 entries, 0 to 110526\n",
      "Data columns (total 14 columns):\n",
      " #   Column          Non-Null Count   Dtype  \n",
      "---  ------          --------------   -----  \n",
      " 0   PatientId       110527 non-null  float64\n",
      " 1   AppointmentID   110527 non-null  int64  \n",
      " 2   Gender          110527 non-null  object \n",
      " 3   ScheduledDay    110527 non-null  object \n",
      " 4   AppointmentDay  110527 non-null  object \n",
      " 5   Age             110527 non-null  int64  \n",
      " 6   Neighbourhood   110527 non-null  object \n",
      " 7   Scholarship     110527 non-null  int64  \n",
      " 8   Hipertension    110527 non-null  int64  \n",
      " 9   Diabetes        110527 non-null  int64  \n",
      " 10  Alcoholism      110527 non-null  int64  \n",
      " 11  Handcap         110527 non-null  int64  \n",
      " 12  SMS_received    110527 non-null  int64  \n",
      " 13  No-show         110527 non-null  object \n",
      "dtypes: float64(1), int64(8), object(5)\n",
      "memory usage: 11.8+ MB\n",
      "Number of duplicates 0\n"
     ]
    }
   ],
   "source": [
    "# Load your data and print out a few lines. Perform operations to inspect data\n",
    "#   types and look for instances of missing or possibly errant data.\n",
    "df = pd.read_csv('noshowappointments-kagglev2-may-2016.csv')\n",
    "df.head()\n",
    "#Check wether our data is clean or not\n",
    "df.info()\n",
    "#Make sure there is no duplicates in our data\n",
    "print('Number of duplicates',df.duplicated().sum())"
   ]
  },
  {
   "cell_type": "markdown",
   "metadata": {},
   "source": [
    "So here the data has no null values in any of the columns however we might need to change the type of the Patient ID to int and we can drop some un-needed columns such as gender and scheduled day."
   ]
  },
  {
   "cell_type": "markdown",
   "metadata": {},
   "source": [
    "\n",
    "\n",
    "### Data Cleaning"
   ]
  },
  {
   "cell_type": "code",
   "execution_count": 15,
   "metadata": {},
   "outputs": [
    {
     "data": {
      "text/html": [
       "<div>\n",
       "<style scoped>\n",
       "    .dataframe tbody tr th:only-of-type {\n",
       "        vertical-align: middle;\n",
       "    }\n",
       "\n",
       "    .dataframe tbody tr th {\n",
       "        vertical-align: top;\n",
       "    }\n",
       "\n",
       "    .dataframe thead th {\n",
       "        text-align: right;\n",
       "    }\n",
       "</style>\n",
       "<table border=\"1\" class=\"dataframe\">\n",
       "  <thead>\n",
       "    <tr style=\"text-align: right;\">\n",
       "      <th></th>\n",
       "      <th>PatientId</th>\n",
       "      <th>AppointmentID</th>\n",
       "      <th>AppointmentDay</th>\n",
       "      <th>Age</th>\n",
       "      <th>Neighbourhood</th>\n",
       "      <th>Scholarship</th>\n",
       "      <th>Hipertension</th>\n",
       "      <th>Diabetes</th>\n",
       "      <th>Alcoholism</th>\n",
       "      <th>Handcap</th>\n",
       "      <th>SMS_received</th>\n",
       "      <th>No-show</th>\n",
       "    </tr>\n",
       "  </thead>\n",
       "  <tbody>\n",
       "    <tr>\n",
       "      <th>0</th>\n",
       "      <td>29872499824296</td>\n",
       "      <td>5642903</td>\n",
       "      <td>2016-04-29T00:00:00Z</td>\n",
       "      <td>62</td>\n",
       "      <td>JARDIM DA PENHA</td>\n",
       "      <td>0</td>\n",
       "      <td>1</td>\n",
       "      <td>0</td>\n",
       "      <td>0</td>\n",
       "      <td>0</td>\n",
       "      <td>0</td>\n",
       "      <td>No</td>\n",
       "    </tr>\n",
       "    <tr>\n",
       "      <th>1</th>\n",
       "      <td>558997776694438</td>\n",
       "      <td>5642503</td>\n",
       "      <td>2016-04-29T00:00:00Z</td>\n",
       "      <td>56</td>\n",
       "      <td>JARDIM DA PENHA</td>\n",
       "      <td>0</td>\n",
       "      <td>0</td>\n",
       "      <td>0</td>\n",
       "      <td>0</td>\n",
       "      <td>0</td>\n",
       "      <td>0</td>\n",
       "      <td>No</td>\n",
       "    </tr>\n",
       "    <tr>\n",
       "      <th>2</th>\n",
       "      <td>4262962299951</td>\n",
       "      <td>5642549</td>\n",
       "      <td>2016-04-29T00:00:00Z</td>\n",
       "      <td>62</td>\n",
       "      <td>MATA DA PRAIA</td>\n",
       "      <td>0</td>\n",
       "      <td>0</td>\n",
       "      <td>0</td>\n",
       "      <td>0</td>\n",
       "      <td>0</td>\n",
       "      <td>0</td>\n",
       "      <td>No</td>\n",
       "    </tr>\n",
       "    <tr>\n",
       "      <th>3</th>\n",
       "      <td>867951213174</td>\n",
       "      <td>5642828</td>\n",
       "      <td>2016-04-29T00:00:00Z</td>\n",
       "      <td>8</td>\n",
       "      <td>PONTAL DE CAMBURI</td>\n",
       "      <td>0</td>\n",
       "      <td>0</td>\n",
       "      <td>0</td>\n",
       "      <td>0</td>\n",
       "      <td>0</td>\n",
       "      <td>0</td>\n",
       "      <td>No</td>\n",
       "    </tr>\n",
       "    <tr>\n",
       "      <th>4</th>\n",
       "      <td>8841186448183</td>\n",
       "      <td>5642494</td>\n",
       "      <td>2016-04-29T00:00:00Z</td>\n",
       "      <td>56</td>\n",
       "      <td>JARDIM DA PENHA</td>\n",
       "      <td>0</td>\n",
       "      <td>1</td>\n",
       "      <td>1</td>\n",
       "      <td>0</td>\n",
       "      <td>0</td>\n",
       "      <td>0</td>\n",
       "      <td>No</td>\n",
       "    </tr>\n",
       "  </tbody>\n",
       "</table>\n",
       "</div>"
      ],
      "text/plain": [
       "         PatientId  AppointmentID        AppointmentDay  Age  \\\n",
       "0   29872499824296        5642903  2016-04-29T00:00:00Z   62   \n",
       "1  558997776694438        5642503  2016-04-29T00:00:00Z   56   \n",
       "2    4262962299951        5642549  2016-04-29T00:00:00Z   62   \n",
       "3     867951213174        5642828  2016-04-29T00:00:00Z    8   \n",
       "4    8841186448183        5642494  2016-04-29T00:00:00Z   56   \n",
       "\n",
       "       Neighbourhood  Scholarship  Hipertension  Diabetes  Alcoholism  \\\n",
       "0    JARDIM DA PENHA            0             1         0           0   \n",
       "1    JARDIM DA PENHA            0             0         0           0   \n",
       "2      MATA DA PRAIA            0             0         0           0   \n",
       "3  PONTAL DE CAMBURI            0             0         0           0   \n",
       "4    JARDIM DA PENHA            0             1         1           0   \n",
       "\n",
       "   Handcap  SMS_received No-show  \n",
       "0        0             0      No  \n",
       "1        0             0      No  \n",
       "2        0             0      No  \n",
       "3        0             0      No  \n",
       "4        0             0      No  "
      ]
     },
     "execution_count": 15,
     "metadata": {},
     "output_type": "execute_result"
    }
   ],
   "source": [
    "# After discussing the structure of the data and any problems that need to be\n",
    "# cleaned, perform those cleaning steps in the second part of this section.\n",
    "\n",
    "#clean data  \n",
    "\n",
    "df = df.astype({\"PatientId\": np.int64})\n",
    "df.drop(['Gender', 'ScheduledDay'], axis = 1, inplace = True)\n",
    "\n",
    "df.head()"
   ]
  },
  {
   "cell_type": "markdown",
   "metadata": {},
   "source": [
    "<a id='eda'></a>\n",
    "## Exploratory Data Analysis\n",
    "\n",
    "\n",
    "\n",
    "### What is the most common day Patients didn't show up?"
   ]
  },
  {
   "cell_type": "code",
   "execution_count": 16,
   "metadata": {},
   "outputs": [
    {
     "name": "stdout",
     "output_type": "stream",
     "text": [
      "Most Common day that the patients don't show up is tuesday\n"
     ]
    },
    {
     "data": {
      "image/png": "[encoded data removed]",
      "text/plain": [
       "<Figure size 432x288 with 1 Axes>"
      ]
     },
     "metadata": {
      "needs_background": "light"
     },
     "output_type": "display_data"
    }
   ],
   "source": [
    "#Find the most common Day for which the patients do not show up\n",
    "days = {'sunday':6,'monday':0,'tuesday':1,'wednesday':2,'thursday':3,'friday':4,'saturday':5}\n",
    "df_nonshowers = df[df['No-show']=='Yes']\n",
    "df_nonshowers.head()\n",
    "df_nonshowers['AppointmentDay'] = pd.to_datetime(df_nonshowers['AppointmentDay'])\n",
    "df_nonshowers['day_of_week'] = df_nonshowers['AppointmentDay'].dt.weekday\n",
    "# df_nonshowers.to_csv(\"df_nonShowers.csv\",index=False)\n",
    "most_common_day = df_nonshowers.groupby(['day_of_week']).size().idxmax()\n",
    "df_days = df_nonshowers.groupby(['day_of_week'])['day_of_week'];\n",
    "df_days_size = df_nonshowers.groupby(['day_of_week']).size();\n",
    "for name, daynum in days.items(): \n",
    "        if daynum == most_common_day:\n",
    "            most_common_day = name \n",
    "            break\n",
    "locations = [1,2,3,4,5,6,7]\n",
    "heights = [df_days_size[0], df_days_size[1],df_days_size[2],df_days_size[3],df_days_size[4],df_days_size[5],0]\n",
    "labels = ['Mond', 'Tues','Wed','Thurs','Fri','Sat','Sun']\n",
    "plt.bar(locations, heights, tick_label=labels)\n",
    "plt.title('Number of Patients that didnt show up for each weekday ')\n",
    "plt.xlabel('Day Of The Week')\n",
    "plt.ylabel('Number of Patients that didnt show up');\n",
    "\n",
    "print(\"Most Common day that the patients don't show up is\",most_common_day)\n"
   ]
  },
  {
   "cell_type": "markdown",
   "metadata": {},
   "source": [
    "### Who is the most common patient that didn't show up?"
   ]
  },
  {
   "cell_type": "code",
   "execution_count": 17,
   "metadata": {},
   "outputs": [
    {
     "name": "stdout",
     "output_type": "stream",
     "text": [
      "The most common patient who didn't show up is  1421986987763  he didn't show up for 18 times\n"
     ]
    }
   ],
   "source": [
    "#Find the id of the patient who didn't show up for his appointments the most\n",
    "most_common_patient = df_nonshowers.groupby(['PatientId']).size().idxmax();\n",
    "number_of_times = df_nonshowers.groupby(['PatientId']).size().max();\n",
    "print(\"The most common patient who didn't show up is \",most_common_patient,\" he didn't show up for\",number_of_times,\"times\")"
   ]
  },
  {
   "cell_type": "markdown",
   "metadata": {},
   "source": [
    "### Which disease is with the most number of non-showups?"
   ]
  },
  {
   "cell_type": "code",
   "execution_count": 18,
   "metadata": {},
   "outputs": [
    {
     "name": "stdout",
     "output_type": "stream",
     "text": [
      "Most Common non-showups are that of the patients suffering from HandCap\n"
     ]
    },
    {
     "data": {
      "image/png": "[encoded data removed]",
      "text/plain": [
       "<Figure size 432x288 with 1 Axes>"
      ]
     },
     "metadata": {
      "needs_background": "light"
     },
     "output_type": "display_data"
    }
   ],
   "source": [
    "#Find the disease with the most number of non-showups\n",
    "df_diabetes = df[df['Diabetes']==1]\n",
    "df_hipertension = df[df['Hipertension']==1]\n",
    "df_alcoholism = df[df['Alcoholism']==1]\n",
    "df_handcap = df[df['Handcap']==1]\n",
    "\n",
    "\n",
    "number_of_Hipertension = df_nonshowers['Hipertension'].sum()/len(df_hipertension.index)\n",
    "number_of_Diabetes = df_nonshowers['Diabetes'].sum() /len(df_diabetes.index)\n",
    "number_of_Alcoholism = df_nonshowers['Alcoholism'].sum()/len(df_alcoholism.index)\n",
    "number_of_Handcap = df_nonshowers['Handcap'].sum()/len(df_handcap.index)\n",
    "locations = [1,2,3,4]\n",
    "heights = [number_of_Hipertension, number_of_Diabetes,number_of_Alcoholism,number_of_Handcap]\n",
    "labels = ['HiperTension', 'Diabetes','Alcholism','HandCap']\n",
    "plt.bar(locations, heights, tick_label=labels)\n",
    "plt.title('Number of Patients that didnt show up for each Disease ')\n",
    "plt.xlabel('Disease Type')\n",
    "plt.ylabel('Number of Patients that didnt show up');\n",
    "\n",
    "print(\"Most Common non-showups are that of the patients suffering from HandCap\")"
   ]
  },
  {
   "cell_type": "markdown",
   "metadata": {},
   "source": [
    "### Is there a realation between HiperTension and no-show?"
   ]
  },
  {
   "cell_type": "code",
   "execution_count": null,
   "metadata": {},
   "outputs": [],
   "source": [
    "def plot(X,NoShow,Show,X_axis,ylabel,title)"
   ]
  },
  {
   "cell_type": "code",
   "execution_count": 19,
   "metadata": {},
   "outputs": [
    {
     "data": {
      "image/png": "[encoded data removed]",
      "text/plain": [
       "<Figure size 432x288 with 1 Axes>"
      ]
     },
     "metadata": {
      "needs_background": "light"
     },
     "output_type": "display_data"
    }
   ],
   "source": [
    "# Correlation between hipertension and no show\n",
    "df_hipertension = df[df['Hipertension']==1]\n",
    "df_nohipertension = df[df['Hipertension']==0]\n",
    "sum_hipertension_noshow = df_hipertension[df['No-show']=='Yes']['Hipertension'].count()\n",
    "sum_hipertension_show = df_hipertension[df['No-show']=='No']['Hipertension'].count()\n",
    "\n",
    "sum_nohipertension_noshow = df_nohipertension[df['No-show']=='Yes']['Hipertension'].count()\n",
    "sum_nohipertension_show = df_hipertension[df['No-show']=='No']['Hipertension'].count()\n",
    "\n",
    "X = ['Hipertension','No Hipertension']\n",
    "NoShow = [sum_hipertension_noshow/len(df_hipertension.index),sum_nohipertension_noshow/len(df_nohipertension.index)]\n",
    "Show = [sum_hipertension_show/len(df_hipertension.index),sum_nohipertension_show/len(df_nohipertension.index)]\n",
    "  \n",
    "X_axis = np.arange(len(X))\n",
    "  \n",
    "plt.bar(X_axis - 0.2, NoShow, 0.4, label = 'No Show')\n",
    "plt.bar(X_axis + 0.2, Show, 0.4, label = 'Show')\n",
    "  \n",
    "plt.xticks(X_axis, X)\n",
    "plt.xlabel(\"Groups\")\n",
    "plt.ylabel(\"Number of patients/Total\")\n",
    "plt.title(\"Hipertension Effect On Non-Show\")\n",
    "plt.legend()\n",
    "plt.show()\n",
    "\n"
   ]
  },
  {
   "cell_type": "markdown",
   "metadata": {},
   "source": [
    "There is no effect on having hipertension and not showing up as shown in the figure, people having hiper tension have showed up much more than people who don't. "
   ]
  },
  {
   "cell_type": "markdown",
   "metadata": {},
   "source": [
    "### Is there a relation between Diabetes and no-show?"
   ]
  },
  {
   "cell_type": "code",
   "execution_count": 20,
   "metadata": {},
   "outputs": [
    {
     "data": {
      "image/png": "[encoded data removed]",
      "text/plain": [
       "<Figure size 432x288 with 1 Axes>"
      ]
     },
     "metadata": {
      "needs_background": "light"
     },
     "output_type": "display_data"
    }
   ],
   "source": [
    "# Correlation between diabetes and no show\n",
    "df_diabetes = df[df['Diabetes']==1]\n",
    "df_nodiabetes = df[df['Diabetes']==0]\n",
    "sum_diabetes_noshow = df_diabetes[df['No-show']=='Yes']['Diabetes'].count()\n",
    "sum_diabetes_show = df_diabetes[df['No-show']=='No']['Diabetes'].count()\n",
    "\n",
    "sum_nodiabetes_noshow = df_nodiabetes[df['No-show']=='Yes']['Diabetes'].count()\n",
    "sum_nodiabetes_show = df_nodiabetes[df['No-show']=='No']['Diabetes'].count()\n",
    "\n",
    "X = ['Diabetes','No Diabetes']\n",
    "NoShow = [sum_diabetes_noshow/len(df_diabetes.index),sum_nodiabetes_noshow/len(df_nodiabetes.index)]\n",
    "Show = [sum_diabetes_show/len(df_diabetes.index),sum_nodiabetes_show/len(df_nodiabetes.index)]\n",
    "  \n",
    "X_axis = np.arange(len(X))\n",
    "  \n",
    "plt.bar(X_axis - 0.2, NoShow, 0.4, label = 'No Show')\n",
    "plt.bar(X_axis + 0.2, Show, 0.4, label = 'Show')\n",
    "  \n",
    "plt.xticks(X_axis, X)\n",
    "plt.xlabel(\"Groups\")\n",
    "plt.ylabel(\"Number of patients/Total\")\n",
    "plt.title(\"Diabetes Effect On Non-Show\")\n",
    "plt.legend()\n",
    "plt.show()\n",
    "\n"
   ]
  },
  {
   "cell_type": "markdown",
   "metadata": {},
   "source": [
    "This shows no correlation between the diabetes and the number of no-show as both diabetes and no diabetes are nearly the same in show and non-show"
   ]
  },
  {
   "cell_type": "markdown",
   "metadata": {},
   "source": [
    "### Is there a relation between Alcoholism and no-show?"
   ]
  },
  {
   "cell_type": "code",
   "execution_count": 21,
   "metadata": {},
   "outputs": [
    {
     "data": {
      "image/png": "[encoded data removed]",
      "text/plain": [
       "<Figure size 432x288 with 1 Axes>"
      ]
     },
     "metadata": {
      "needs_background": "light"
     },
     "output_type": "display_data"
    }
   ],
   "source": [
    "# Correlation between Alcoholism and no show\n",
    "df_alcoholism = df[df['Alcoholism']==1]\n",
    "df_noalcoholism = df[df['Alcoholism']==0]\n",
    "sum_alcoholism_noshow = df_alcoholism[df['No-show']=='Yes']['Alcoholism'].count()\n",
    "sum_alcoholism_show = df_alcoholism[df['No-show']=='No']['Alcoholism'].count()\n",
    "\n",
    "sum_noalcoholism_noshow = df_noalcoholism[df['No-show']=='Yes']['Alcoholism'].count()\n",
    "sum_noalcoholism_show = df_alcoholism[df['No-show']=='No']['Alcoholism'].count()\n",
    "\n",
    "X = ['Alcoholism','No Alcoholism']\n",
    "NoShow = [sum_alcoholism_noshow/len(df_alcoholism.index),sum_noalcoholism_noshow/len(df_noalcoholism.index)]\n",
    "Show = [sum_alcoholism_show/len(df_alcoholism.index),sum_noalcoholism_show/len(df_noalcoholism.index)]\n",
    "  \n",
    "X_axis = np.arange(len(X))\n",
    "  \n",
    "plt.bar(X_axis - 0.2, NoShow, 0.4, label = 'No Show')\n",
    "plt.bar(X_axis + 0.2, Show, 0.4, label = 'Show')\n",
    "  \n",
    "plt.xticks(X_axis, X)\n",
    "plt.xlabel(\"Groups\")\n",
    "plt.ylabel(\"Number of patients/Total\")\n",
    "plt.title(\"Alcoholism Effect On Non-Show\")\n",
    "plt.legend()\n",
    "plt.show()"
   ]
  },
  {
   "cell_type": "markdown",
   "metadata": {},
   "source": [
    "### Is there a relation between Handcap and no-show?"
   ]
  },
  {
   "cell_type": "code",
   "execution_count": 22,
   "metadata": {},
   "outputs": [
    {
     "data": {
      "image/png": "[encoded data removed]",
      "text/plain": [
       "<Figure size 432x288 with 1 Axes>"
      ]
     },
     "metadata": {
      "needs_background": "light"
     },
     "output_type": "display_data"
    }
   ],
   "source": [
    "# Correlation between Handcap and no show\n",
    "df_handcap = df[df['Handcap']==1]\n",
    "df_nohandcap = df[df['Handcap']==0]\n",
    "sum_handcap_noshow = df_handcap[df['No-show']=='Yes']['Handcap'].count()\n",
    "sum_handcap_show = df_handcap[df['No-show']=='No']['Handcap'].count()\n",
    "\n",
    "sum_nohandcap_noshow = df_nohandcap[df['No-show']=='Yes']['Handcap'].count()\n",
    "sum_nohandcap_show = df_handcap[df['No-show']=='No']['Handcap'].count()\n",
    "\n",
    "X = ['Handcap','No Handcap']\n",
    "NoShow = [sum_handcap_noshow/len(df_handcap.index),sum_nohandcap_noshow/len(df_nohandcap.index)]\n",
    "Show = [sum_handcap_show/len(df_handcap.index),sum_nohandcap_show/len(df_nohandcap.index)]\n",
    "  \n",
    "X_axis = np.arange(len(X))\n",
    "  \n",
    "plt.bar(X_axis - 0.2, NoShow, 0.4, label = 'No Show')\n",
    "plt.bar(X_axis + 0.2, Show, 0.4, label = 'Show')\n",
    "  \n",
    "plt.xticks(X_axis, X)\n",
    "plt.xlabel(\"Groups\")\n",
    "plt.ylabel(\"Number of patients/Total\")\n",
    "plt.title(\"Handcap Effect On Non-Show\")\n",
    "plt.legend()\n",
    "plt.show()"
   ]
  },
  {
   "cell_type": "markdown",
   "metadata": {},
   "source": [
    "There is no effect on having Handcap and not showing up as shown in the figure, people having Handcap have showed up much more than people who don't. "
   ]
  },
  {
   "cell_type": "markdown",
   "metadata": {},
   "source": [
    "### Is there a relation between Not Recieving and SMS and no-show?"
   ]
  },
  {
   "cell_type": "code",
   "execution_count": 23,
   "metadata": {},
   "outputs": [
    {
     "data": {
      "image/png": "[encoded data removed]",
      "text/plain": [
       "<Figure size 432x288 with 1 Axes>"
      ]
     },
     "metadata": {
      "needs_background": "light"
     },
     "output_type": "display_data"
    }
   ],
   "source": [
    "\n",
    "# Correlation between SMS_received and no show\n",
    "df_SMS_received = df[df['SMS_received']==1]\n",
    "df_noSMS_received = df[df['SMS_received']==0]\n",
    "\n",
    "sum_SMS_received_noshow = df_SMS_received[df['No-show']=='Yes']['SMS_received'].count()\n",
    "sum_SMS_received_show = df_SMS_received[df['No-show']=='No']['SMS_received'].count()\n",
    "\n",
    "sum_noSMS_received_noshow = df_noSMS_received[df['No-show']=='Yes']['SMS_received'].count()\n",
    "sum_noSMS_received_show = df_noSMS_received[df['No-show']=='No']['SMS_received'].count()\n",
    "\n",
    "X = ['SMS Received','No SMS Received']\n",
    "NoShow = [sum_SMS_received_noshow/len(df_SMS_received.index),sum_noSMS_received_noshow/len(df_noSMS_received.index)]\n",
    "Show = [sum_SMS_received_show/len(df_SMS_received.index),sum_noSMS_received_show/len(df_noSMS_received.index)]\n",
    "  \n",
    "X_axis = np.arange(len(X))\n",
    "  \n",
    "plt.bar(X_axis - 0.2, NoShow, 0.4, label = 'No Show')\n",
    "plt.bar(X_axis + 0.2, Show, 0.4, label = 'Show')\n",
    "  \n",
    "plt.xticks(X_axis, X)\n",
    "plt.xlabel(\"Groups\")\n",
    "plt.ylabel(\"Number of patients/Total\")\n",
    "plt.title(\"SMS Received Effect On Non-Show\")\n",
    "plt.legend()\n",
    "plt.show()"
   ]
  },
  {
   "cell_type": "markdown",
   "metadata": {},
   "source": [
    "This shows that when no SMS is recieved more patients show up andd less don't show"
   ]
  },
  {
   "cell_type": "markdown",
   "metadata": {},
   "source": [
    "<a id='conclusions'></a>\n",
    "## Conclusions\n",
    "To sum it up, we have found the patient with the most number of non-show to appointments and the most day that the patients didn't show up in. Then we dove deeper to see how each feature affects the non-show. "
   ]
  },
  {
   "cell_type": "code",
   "execution_count": null,
   "metadata": {},
   "outputs": [],
   "source": []
  }
 ],
 "metadata": {
  "kernelspec": {
   "display_name": "Python 3 (ipykernel)",
   "language": "python",
   "name": "python3"
  },
  "language_info": {
   "codemirror_mode": {
    "name": "ipython",
    "version": 3
   },
   "file_extension": ".py",
   "mimetype": "text/x-python",
   "name": "python",
   "nbconvert_exporter": "python",
   "pygments_lexer": "ipython3",
   "version": "3.10.1"
  }
 },
 "nbformat": 4,
 "nbformat_minor": 2
}
